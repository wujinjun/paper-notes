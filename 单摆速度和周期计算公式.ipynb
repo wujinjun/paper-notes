{
 "cells": [
  {
   "cell_type": "markdown",
   "metadata": {},
   "source": [
    "# 单摆速度和周期计算公式"
   ]
  },
  {
   "cell_type": "markdown",
   "metadata": {},
   "source": [
    "单摆周期：$$ T=2\\ast\\pi\\ast\\sqrt \\frac{l}{g}$$\n",
    "\n",
    "其中l是线长，g是重力加速度，说明单摆的周期只与线长有关系"
   ]
  },
  {
   "cell_type": "markdown",
   "metadata": {},
   "source": [
    "单摆速度：$$ v=\\sqrt{2gh} $$\n",
    "$$当h=\\frac{l}{4}时，v=\\sqrt{\\frac{gl}{2}}$$\n",
    "$$当h=\\frac{l}{2}时，v=\\sqrt{gl}$$\n",
    "$$当h=\\frac{3l}{4}时，v=\\sqrt{\\frac{3gl}{2}}$$\n",
    "单摆的速度只与线长和高度有关"
   ]
  }
 ],
 "metadata": {
  "kernelspec": {
   "display_name": "Python 3",
   "language": "python",
   "name": "python3"
  },
  "language_info": {
   "codemirror_mode": {
    "name": "ipython",
    "version": 3
   },
   "file_extension": ".py",
   "mimetype": "text/x-python",
   "name": "python",
   "nbconvert_exporter": "python",
   "pygments_lexer": "ipython3",
   "version": "3.5.3"
  }
 },
 "nbformat": 4,
 "nbformat_minor": 2
}
